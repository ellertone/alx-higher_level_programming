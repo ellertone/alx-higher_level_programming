{
 "cells": [
  {
   "cell_type": "code",
   "execution_count": 19,
   "metadata": {},
   "outputs": [
    {
     "name": "stdout",
     "output_type": "stream",
     "text": [
      "Expecto Patronum\n",
      "No patronus\n"
     ]
    }
   ],
   "source": [
    "\"\"\"Testing the creation of classes and objects\"\"\"\n",
    "class Student:\n",
    "    def __init__(self, name, house, patronus):\n",
    "        if not name:\n",
    "            raise ValueError(\"Please enter a name\")\n",
    "        # if house not in [\"Njoro\", \"Nyayo\", \"Raila\"]:\n",
    "        #     raise ValueError(\"invalid house\")\n",
    "        self.name = name\n",
    "        self.house = house\n",
    "        self.patronus = patronus\n",
    "\n",
    "    def __str__(self):\n",
    "        return f\"{self.name} from {self.house}\"\n",
    "    \n",
    "    # def __repr__(self):\n",
    "    #     return \n",
    "\n",
    "    def charm(self):\n",
    "    \n",
    "        match self.patronus:\n",
    "            case \"Stag\":\n",
    "                return \"Ho132\"\n",
    "            case \"Otter\":\n",
    "                return \"1234\"\n",
    "            case \"Terrer\":\n",
    "                return 0000\n",
    "            case _:\n",
    "                return \"No patronus\"\n",
    "\n",
    "def main():\n",
    "    student = get_student()\n",
    "    print(\"Expecto Patronum\")\n",
    "    print(student.charm())\n",
    "\n",
    "\n",
    "def get_student():\n",
    "    name = input(\"Name: \")\n",
    "    house = input(\"H(ouse: \")\n",
    "    patronus = input(\"Patronus: \")\n",
    "    # try:\n",
    "    #     return Student(name, house)\n",
    "    # except Value:\n",
    "    return Student(name, house, patronus)\n",
    "\n",
    "\n",
    "\n",
    "if __name__ == \"__main__\":\n",
    "    main()"
   ]
  },
  {
   "cell_type": "code",
   "execution_count": 24,
   "metadata": {},
   "outputs": [
    {
     "name": "stdout",
     "output_type": "stream",
     "text": [
      "bnu from C\n"
     ]
    }
   ],
   "source": [
    "\"\"\"Further Properties of classes and objects\"\"\"\n",
    "class Student:\n",
    "    def __init__(self, name, house, ):\n",
    "        if not name:\n",
    "            raise ValueError(\"Please enter a name\")\n",
    "        self.name = name\n",
    "        self.house = house\n",
    "   \n",
    "\n",
    "    def __str__(self):\n",
    "        return f\"{self.name} from {self.house}\"\n",
    "    \n",
    "    # getter\n",
    "    @property\n",
    "    def house(self):\n",
    "        return self._house\n",
    "    \n",
    "    # setter\n",
    "    @house.setter\n",
    "    def house(self, house):\n",
    "        if house not in [\"A\", \"B\", \"C\", \"D\"]:\n",
    "            raise ValueError(\"Not a valid house\")\n",
    "        self._house = house\n",
    "        \n",
    "    \n",
    "\n",
    "def main():\n",
    "    student = get_student()\n",
    "    print(student)\n",
    "\n",
    "def get_student():\n",
    "    name = input(\"Name: \")\n",
    "    house = input(\"House: \")\n",
    "\n",
    "    return Student(name, house) \n",
    "\n",
    "if __name__ == \"__main__\":\n",
    "    main()"
   ]
  }
 ],
 "metadata": {
  "kernelspec": {
   "display_name": "Python 3",
   "language": "python",
   "name": "python3"
  },
  "language_info": {
   "codemirror_mode": {
    "name": "ipython",
    "version": 3
   },
   "file_extension": ".py",
   "mimetype": "text/x-python",
   "name": "python",
   "nbconvert_exporter": "python",
   "pygments_lexer": "ipython3",
   "version": "3.10.7"
  },
  "orig_nbformat": 4
 },
 "nbformat": 4,
 "nbformat_minor": 2
}
