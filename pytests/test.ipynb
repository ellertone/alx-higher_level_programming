{
 "cells": [
  {
   "cell_type": "code",
   "execution_count": 1,
   "metadata": {},
   "outputs": [
    {
     "name": "stdout",
     "output_type": "stream",
     "text": [
      "4 * 2 =  8\n"
     ]
    }
   ],
   "source": [
    "def mul_by_2(num):\n",
    "    return num * 2\n",
    "\n",
    "times_two = mul_by_2\n",
    "\n",
    "print(\"4 * 2 = \", times_two(4))"
   ]
  },
  {
   "cell_type": "code",
   "execution_count": 3,
   "metadata": {},
   "outputs": [
    {
     "name": "stdout",
     "output_type": "stream",
     "text": [
      "8 * 2 =  4\n"
     ]
    }
   ],
   "source": [
    "def mul_by_2(num):\n",
    "    return num * 2\n",
    "\n",
    "def do_math(func, num):\n",
    "    return func(num)\n",
    "\n",
    "print(\"8 * 2 = \",do_math(mul_by_2, 2))"
   ]
  },
  {
   "cell_type": "code",
   "execution_count": 5,
   "metadata": {},
   "outputs": [
    {
     "name": "stdout",
     "output_type": "stream",
     "text": [
      "5 * 10 =  50\n",
      "5 * 9 =  45\n"
     ]
    }
   ],
   "source": [
    "# Returning functions\n",
    "\n",
    "def get_func_multiply(num):\n",
    "\n",
    "    def mul_by_val(value):\n",
    "        return num * value \n",
    "    \n",
    "    return mul_by_val\n",
    "\n",
    "generated_func = get_func_multiply(5)\n",
    "\n",
    "print(\"5 * 10 = \",generated_func(10))\n",
    "\n",
    "listOfFuntions =[ times_two, generated_func]\n",
    "\n",
    "print(\"5 * 9 = \",listOfFuntions[1](9))"
   ]
  },
  {
   "cell_type": "code",
   "execution_count": 2,
   "metadata": {},
   "outputs": [
    {
     "name": "stdout",
     "output_type": "stream",
     "text": [
      "[1, 3, 5, 7, 9, 11, 13, 15, 17, 19]\n"
     ]
    }
   ],
   "source": [
    "# create a funtion that receives a list and a funtion\n",
    "# returns true or false if a list value is odd\n",
    "# surrounding funtion will return a list of odd numbers\n",
    "\n",
    "\n",
    "def is_it_odd(num):\n",
    "    if num % 2 == 0:\n",
    "        return False\n",
    "    else:\n",
    "        return True\n",
    "\n",
    "def listOdd(list, func):\n",
    "    oddList = []\n",
    "\n",
    "    for i in list:\n",
    "\n",
    "        if func(i):\n",
    "            oddList.append(i)\n",
    "        \n",
    "    return oddList\n",
    "\n",
    "maxNum = eval(input(\"Enter the max no:\" ))\n",
    "aList = range(0, maxNum + 1)\n",
    "\n",
    "print(listOdd(aList, is_it_odd))"
   ]
  },
  {
   "cell_type": "code",
   "execution_count": 5,
   "metadata": {},
   "outputs": [
    {
     "name": "stdout",
     "output_type": "stream",
     "text": [
      "Heads:  5002409\n",
      "Tails:  4997590\n"
     ]
    }
   ],
   "source": [
    "# create a random list and output the no of heads and tails for each\n",
    "\n",
    "import random\n",
    "\n",
    "flipList = []\n",
    "\n",
    "for i in range(1,10000000):\n",
    "    flipList += random.choice(['H','T'])\n",
    "\n",
    "print(\"Heads: \", flipList.count('H'))\n",
    "\n",
    "print(\"Tails: \", flipList.count('T'))\n"
   ]
  },
  {
   "cell_type": "code",
   "execution_count": 10,
   "metadata": {},
   "outputs": [
    {
     "name": "stdout",
     "output_type": "stream",
     "text": [
      "[2, 4, 6, 8, 10, 12, 14, 16, 18, 20]\n",
      "[3, 6, 9, 12, 15, 18, 21, 24, 27, 30]\n",
      "[2, 4, 6]\n"
     ]
    }
   ],
   "source": [
    "# map and lambda\n",
    "one2ten = range(1, 11)\n",
    "\n",
    "def dblNum(num):\n",
    "    return num * 2\n",
    "\n",
    "print(list(map(dblNum, one2ten)))\n",
    "\n",
    "print(list(map(lambda x: x *3, one2ten)))\n",
    "\n",
    "aList = list(map((lambda x, y: x + y), [1,2,3],  [1,2,3 ] ))\n",
    "\n",
    "print(aList)"
   ]
  },
  {
   "cell_type": "code",
   "execution_count": 13,
   "metadata": {},
   "outputs": [
    {
     "name": "stdout",
     "output_type": "stream",
     "text": [
      "[2, 4, 6, 8, 10]\n"
     ]
    }
   ],
   "source": [
    "# filter function\n",
    "\n",
    "print(list(filter((lambda x: x % 2 == 0), range(1,11))))\n"
   ]
  },
  {
   "cell_type": "code",
   "execution_count": 28,
   "metadata": {},
   "outputs": [
    {
     "name": "stdout",
     "output_type": "stream",
     "text": [
      "[558, 45, 936, 369, 45, 378, 126, 666, 459]\n"
     ]
    }
   ],
   "source": [
    "# find multiples of 9 in a 100 val list\n",
    "import random\n",
    "\n",
    "randList =list(random.randrange(1, 1001) for i in range (103)) \n",
    "print(list(filter((lambda x: x % 9 == 0), randList)))\n",
    "\n"
   ]
  },
  {
   "cell_type": "code",
   "execution_count": 29,
   "metadata": {},
   "outputs": [
    {
     "name": "stdout",
     "output_type": "stream",
     "text": [
      "15\n"
     ]
    }
   ],
   "source": [
    "from functools import reduce\n",
    "\n",
    "print(reduce((lambda x, y: x + y), range(1,6)))"
   ]
  }
 ],
 "metadata": {
  "kernelspec": {
   "display_name": "Python 3",
   "language": "python",
   "name": "python3"
  },
  "language_info": {
   "codemirror_mode": {
    "name": "ipython",
    "version": 3
   },
   "file_extension": ".py",
   "mimetype": "text/x-python",
   "name": "python",
   "nbconvert_exporter": "python",
   "pygments_lexer": "ipython3",
   "version": "3.10.7"
  },
  "orig_nbformat": 4
 },
 "nbformat": 4,
 "nbformat_minor": 2
}
