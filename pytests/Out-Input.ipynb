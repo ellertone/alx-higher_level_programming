{
 "cells": [
  {
   "cell_type": "code",
   "execution_count": 15,
   "metadata": {},
   "outputs": [
    {
     "name": "stdout",
     "output_type": "stream",
     "text": [
      "Hello Ellertone. \n",
      "\n",
      "mydata.txt\n",
      "/home/ellie/Desktop/Software Engineering/alx-higher_level_programming/pytests/__pycache__\n"
     ]
    }
   ],
   "source": [
    "import os\n",
    "\n",
    "with open(\"mydata.txt\", mode=\"w\", encoding=\"utf-8\") as myFile:\n",
    "    myFile.write(\"Hello Ellertone. \\n This is input and output in python\\n And Further application.\")\n",
    "\n",
    "with open(\"mydata.txt\", encoding=\"utf-8\") as myFile:\n",
    "    print(myFile.readline())\n",
    "    \n",
    "print(myFile.name)\n",
    "# print(myFile.mode)\n",
    "\n",
    "os.rename(\"mydata.txt\", \"mydata2.txt\")\n",
    "\n",
    "print(os.getcwd())\n"
   ]
  },
  {
   "attachments": {},
   "cell_type": "markdown",
   "metadata": {},
   "source": [
    "os.remove\n",
    "os.rename\n",
    "os.mkdir(\"name\")\n",
    "os.getcwd()\n",
    "os.chdir(\"..\")\n",
    "os.rmdir(name in quo)\n"
   ]
  },
  {
   "cell_type": "code",
   "execution_count": 18,
   "metadata": {},
   "outputs": [
    {
     "name": "stdout",
     "output_type": "stream",
     "text": [
      "1\n",
      "1\n",
      "2\n",
      "3\n",
      "5\n",
      "8\n",
      "13\n",
      "21\n",
      "34\n",
      "All done\n"
     ]
    }
   ],
   "source": [
    "import os\n",
    "\n",
    "def fib(num):\n",
    "    if num == 0:\n",
    "        return 0\n",
    "    elif num == 1:\n",
    "        return 1\n",
    "    else:\n",
    "        result = fib(num - 1) + fib(num- 2)\n",
    "        return result\n",
    "    \n",
    "def main():\n",
    "    numFibValues = int(input(\"Enter the num of fib values\"))\n",
    "    i = 1\n",
    "\n",
    "    while i < numFibValues:\n",
    "        fibValue = fib(i)\n",
    "\n",
    "        print(fibValue)\n",
    "        i += 1\n",
    "\n",
    "    print(\"All done\")\n",
    "\n",
    "\n",
    "\n",
    "main()"
   ]
  },
  {
   "cell_type": "code",
   "execution_count": 3,
   "metadata": {},
   "outputs": [
    {
     "name": "stdout",
     "output_type": "stream",
     "text": [
      "Line 1  :  Hello Ellertone. \n",
      "Line 2  :   This is input and output in python\n",
      "Line 3  :   And Further application."
     ]
    }
   ],
   "source": [
    "import os\n",
    "\n",
    "with open(\"mydata2.txt\", encoding=\"utf-8\") as myFile:\n",
    "\n",
    "    lineNum = 1\n",
    "\n",
    "    while True:\n",
    "        line = myFile.readline()\n",
    "\n",
    "        if not line:\n",
    "            break\n",
    "\n",
    "        print(\"Line\", lineNum, \" : \", line, end =\"\" )\n",
    "\n",
    "        lineNum += 1"
   ]
  },
  {
   "cell_type": "code",
   "execution_count": 9,
   "metadata": {},
   "outputs": [
    {
     "name": "stdout",
     "output_type": "stream",
     "text": [
      "Num of Words :  2\n",
      "Avg Word length : 7.5\n",
      "Num of Words :  7\n",
      "Avg Word length : 4.0\n",
      "Num of Words :  3\n",
      "Avg Word length : 7.3\n"
     ]
    }
   ],
   "source": [
    "import os\n",
    "\n",
    "with open(\"mydata2.txt\", encoding=\"utf-8\") as myFile:\n",
    "    \n",
    "\n",
    "    lineNum = 1\n",
    "\n",
    "    while True:\n",
    "        line = myFile.readline()\n",
    "\n",
    "        if not line:\n",
    "            break\n",
    "\n",
    "    # split(value, \"-\")\n",
    "\n",
    "        wordlist = line.split()\n",
    "\n",
    "    # len()\n",
    "        print(\"Num of Words : \", len(wordlist))\n",
    "\n",
    "\n",
    "    # loop count characters in a list\n",
    "\n",
    "        charCount = 0\n",
    "\n",
    "        for word in wordlist:\n",
    "            for char in word:\n",
    "                charCount += 1\n",
    "        \n",
    "                \n",
    "    # divide character count /len word list\n",
    "        avgNumChars = charCount / len(wordlist)\n",
    "\n",
    "        print(\"Avg Word length : {:.2}\".format(avgNumChars))\n",
    "        \n",
    "        lineNum += 1\n"
   ]
  },
  {
   "cell_type": "code",
   "execution_count": null,
   "metadata": {},
   "outputs": [],
   "source": [
    "myTuple = (1,2,3,4,5,7)\n",
    "\n",
    "print( myTuple[0])\n",
    "\n",
    "p\n"
   ]
  }
 ],
 "metadata": {
  "kernelspec": {
   "display_name": "Python 3",
   "language": "python",
   "name": "python3"
  },
  "language_info": {
   "codemirror_mode": {
    "name": "ipython",
    "version": 3
   },
   "file_extension": ".py",
   "mimetype": "text/x-python",
   "name": "python",
   "nbconvert_exporter": "python",
   "pygments_lexer": "ipython3",
   "version": "3.10.7"
  },
  "orig_nbformat": 4
 },
 "nbformat": 4,
 "nbformat_minor": 2
}
