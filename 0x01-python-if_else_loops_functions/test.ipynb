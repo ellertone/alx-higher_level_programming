{
 "cells": [
  {
   "cell_type": "code",
   "execution_count": 2,
   "metadata": {},
   "outputs": [
    {
     "name": "stdout",
     "output_type": "stream",
     "text": [
      "2 is a prime number\n",
      "3 is a prime number\n",
      "4 equals 2 * 2\n",
      "5 is a prime number\n",
      "6 equals 2 * 3\n",
      "7 is a prime number\n",
      "8 equals 2 * 4\n",
      "9 equals 3 * 3\n"
     ]
    }
   ],
   "source": [
    "for n in range(2, 10):\n",
    "    for x in range(2, n):\n",
    "        if n % x == 0:\n",
    "            print(n, 'equals', x, '*', n//x)\n",
    "            break\n",
    "    else:\n",
    "        # loop fell through without finding a factor\n",
    "        print(n, 'is a prime number')"
   ]
  },
  {
   "cell_type": "code",
   "execution_count": 1,
   "metadata": {},
   "outputs": [
    {
     "name": "stdout",
     "output_type": "stream",
     "text": [
      "The random number is:  5\n"
     ]
    }
   ],
   "source": [
    "import random\n",
    "\n",
    "rand_num = random.randrange(1,51)\n",
    "\n",
    "i=1\n",
    "\n",
    "while (i != rand_num):\n",
    "    i += 1\n",
    "\n",
    "print(\"The random number is: \", rand_num)"
   ]
  },
  {
   "cell_type": "code",
   "execution_count": 4,
   "metadata": {},
   "outputs": [
    {
     "name": "stdout",
     "output_type": "stream",
     "text": [
      "                   #\n",
      "                  ###\n",
      "                 #####\n",
      "                #######\n",
      "               #########\n",
      "              ###########\n",
      "             #############\n",
      "            ###############\n",
      "           #################\n",
      "          ###################\n",
      "         #####################\n",
      "        #######################\n",
      "       #########################\n",
      "      ###########################\n",
      "     #############################\n",
      "    ###############################\n",
      "   #################################\n",
      "  ###################################\n",
      " #####################################\n",
      "#######################################\n",
      "                   #\n"
     ]
    }
   ],
   "source": [
    "\n",
    "\n",
    "'''\n",
    "1st line 4 spaces 1 hash\n",
    "2nd line - 3 spaces 3 hashes\n",
    "3rd line 2 spaces 5 hashes\n",
    "4th 1space: 7 hashes\n",
    "5th 0spaces : 9 hashes\n",
    "1st line reprinted\n",
    "\n",
    "\n",
    "#need to do\n",
    "1. decrement the spaces by 1 each time of the loop\n",
    "2. incrememnt the hashes by 2\n",
    "3. save spaces to the stump by calculating tree height -1\n",
    "4. decrement from tree height until it reaches zero\n",
    "5. print spaces then hashes for each row\n",
    "6. print stump spaces then 1 hash\n",
    "\n",
    "'''\n",
    "\n",
    "# get no of rows for the tree as an int\n",
    "\n",
    "tree_height = eval(input(\"Enter the height of the tree: \"))\n",
    "\n",
    "#get the starting spaces for the top of the tree\n",
    "spaces = tree_height - 1\n",
    "\n",
    "#there is 1 hash to start with that will be incremented\n",
    "hashes = 1\n",
    "\n",
    "#Save stump spaces till later\n",
    "stump_spaces = tree_height - 1\n",
    "\n",
    "#make sure the  right number o frows are printed\n",
    "while tree_height != 0:\n",
    "\n",
    "#Print the spaces\n",
    "    for i in range(spaces):\n",
    "        print(' ', end=\"\")\n",
    "#end=\"\" //eliminates the new line after execution\n",
    "\n",
    "#print the hashes\n",
    "    for i in range(hashes):\n",
    "        print('#', end=\"\")\n",
    "# print a new line after each new row is printed\n",
    "\n",
    "    print()\n",
    "# spaces is decremented by 1 each time\n",
    "    spaces -= 1\n",
    "\n",
    "# hashes is incremented by 2 each time\n",
    "    hashes += 2\n",
    "# Decrement tree height each time to jump out of the loop\n",
    "    tree_height -= 1\n",
    "# print the spaces before the stump and then the final hash\n",
    "for i in range(stump_spaces):\n",
    "    print(' ', end=\"\")\n",
    "\n",
    "print('#')\n",
    "\n",
    "\n"
   ]
  }
 ],
 "metadata": {
  "kernelspec": {
   "display_name": "Python 3",
   "language": "python",
   "name": "python3"
  },
  "language_info": {
   "codemirror_mode": {
    "name": "ipython",
    "version": 3
   },
   "file_extension": ".py",
   "mimetype": "text/x-python",
   "name": "python",
   "nbconvert_exporter": "python",
   "pygments_lexer": "ipython3",
   "version": "3.10.7"
  },
  "orig_nbformat": 4
 },
 "nbformat": 4,
 "nbformat_minor": 2
}
